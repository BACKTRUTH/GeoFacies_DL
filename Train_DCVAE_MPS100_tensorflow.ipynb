{
 "cells": [
  {
   "cell_type": "code",
   "execution_count": 1,
   "metadata": {},
   "outputs": [
    {
     "name": "stderr",
     "output_type": "stream",
     "text": [
      "Using TensorFlow backend.\n"
     ]
    }
   ],
   "source": [
    "import tensorflow as tf\n",
    "from Model.DCVAE_TF import DCVAE\n",
    "from Model.Utils import LoadMPS45, LoadMPS100,plot_images, plot_history"
   ]
  },
  {
   "cell_type": "markdown",
   "metadata": {},
   "source": [
    "## Load DataSet"
   ]
  },
  {
   "cell_type": "code",
   "execution_count": 2,
   "metadata": {},
   "outputs": [],
   "source": [
    "x_train1, x_test1 = LoadMPS100(dirBase='DataSet/MPS-100.mat');\n",
    "x_train = tf.keras.utils.to_categorical(x_train1,2)\n",
    "x_test = tf.keras.utils.to_categorical(x_test1,2)\n",
    "x_train=x_train.astype('float32')\n",
    "x_test=x_test.astype('float32')"
   ]
  },
  {
   "cell_type": "markdown",
   "metadata": {},
   "source": [
    "## Build Model"
   ]
  },
  {
   "cell_type": "code",
   "execution_count": 3,
   "metadata": {},
   "outputs": [],
   "source": [
    "model = DCVAE(input_shape=(100,100,2), latent_cont_dim=500, opt=tf.train.AdamOptimizer(),\n",
    "              hidden_dim=5000, filters=(32,32,16), strides=(2,2,1), dropout=0.1,lr=0.001)"
   ]
  },
  {
   "cell_type": "markdown",
   "metadata": {},
   "source": [
    "## Train  Network"
   ]
  },
  {
   "cell_type": "code",
   "execution_count": null,
   "metadata": {
    "scrolled": true
   },
   "outputs": [
    {
     "name": "stdout",
     "output_type": "stream",
     "text": [
      "Epoch: 1 - Train cost= 4401.95507812\n",
      "Epoch: 1 - Test cost= 2427.31518555\n",
      "Epoch: 2 - Train cost= 2213.03955078\n",
      "Epoch: 2 - Test cost= 2108.51513672\n",
      "Epoch: 3 - Train cost= 1951.71630859\n",
      "Epoch: 3 - Test cost= 1863.06823730\n",
      "Epoch: 4 - Train cost= 1828.03479004\n",
      "Epoch: 4 - Test cost= 1829.43261719\n",
      "Epoch: 5 - Train cost= 1748.70019531\n",
      "Epoch: 5 - Test cost= 1741.70690918\n",
      "Epoch: 6 - Train cost= 1688.39086914\n",
      "Epoch: 6 - Test cost= 1703.80297852\n",
      "Epoch: 7 - Train cost= 1638.09130859\n",
      "Epoch: 7 - Test cost= 1693.94091797\n",
      "Epoch: 8 - Train cost= 1596.46667480\n",
      "Epoch: 8 - Test cost= 1637.62036133\n",
      "Epoch: 9 - Train cost= 1562.99426270\n",
      "Epoch: 9 - Test cost= 1592.59191895\n",
      "Epoch: 10 - Train cost= 1529.41613770\n",
      "Epoch: 10 - Test cost= 1576.96923828\n",
      "Epoch: 11 - Train cost= 1503.63781738\n",
      "Epoch: 11 - Test cost= 1548.71435547\n",
      "Epoch: 12 - Train cost= 1482.67932129\n",
      "Epoch: 12 - Test cost= 1526.47485352\n",
      "Epoch: 13 - Train cost= 1459.42114258\n",
      "Epoch: 13 - Test cost= 1518.12866211\n",
      "Epoch: 14 - Train cost= 1442.16198730\n",
      "Epoch: 14 - Test cost= 1564.78002930\n",
      "Epoch: 15 - Train cost= 1426.40148926\n",
      "Epoch: 15 - Test cost= 1495.80822754\n",
      "Epoch: 16 - Train cost= 1412.27319336\n",
      "Epoch: 16 - Test cost= 1479.44958496\n",
      "Epoch: 17 - Train cost= 1399.88879395\n",
      "Epoch: 17 - Test cost= 1474.37817383\n",
      "Epoch: 18 - Train cost= 1388.83898926\n",
      "Epoch: 18 - Test cost= 1472.48400879\n",
      "Epoch: 19 - Train cost= 1378.35791016\n",
      "Epoch: 19 - Test cost= 1475.49011230\n",
      "Epoch: 20 - Train cost= 1370.88952637\n",
      "Epoch: 20 - Test cost= 1446.03869629\n",
      "Epoch: 21 - Train cost= 1363.27062988\n",
      "Epoch: 21 - Test cost= 1474.66906738\n",
      "Epoch: 22 - Train cost= 1355.04980469\n",
      "Epoch: 22 - Test cost= 1445.99548340\n",
      "Epoch: 23 - Train cost= 1348.45373535\n",
      "Epoch: 23 - Test cost= 1446.84863281\n",
      "Epoch: 24 - Train cost= 1343.35290527\n",
      "Epoch: 24 - Test cost= 1433.04809570\n",
      "Epoch: 25 - Train cost= 1336.51513672\n",
      "Epoch: 25 - Test cost= 1438.84948730\n",
      "Epoch: 26 - Train cost= 1330.89184570\n",
      "Epoch: 26 - Test cost= 1410.67700195\n",
      "Epoch: 27 - Train cost= 1327.06176758\n",
      "Epoch: 27 - Test cost= 1428.08056641\n",
      "Epoch: 28 - Train cost= 1320.76403809\n",
      "Epoch: 28 - Test cost= 1416.95166016\n",
      "Epoch: 29 - Train cost= 1316.41040039\n",
      "Epoch: 29 - Test cost= 1440.53222656\n",
      "Epoch: 30 - Train cost= 1312.48083496\n",
      "Epoch: 30 - Test cost= 1428.11682129\n",
      "Epoch: 31 - Train cost= 1308.86315918\n",
      "Epoch: 31 - Test cost= 1435.38293457\n",
      "Epoch: 32 - Train cost= 1307.07812500\n",
      "Epoch: 32 - Test cost= 1400.28857422\n",
      "Epoch: 33 - Train cost= 1301.92297363\n",
      "Epoch: 33 - Test cost= 1411.53613281\n",
      "Epoch: 34 - Train cost= 1299.62121582\n",
      "Epoch: 34 - Test cost= 1402.94018555\n",
      "Epoch: 35 - Train cost= 1295.62329102\n",
      "Epoch: 35 - Test cost= 1398.51354980\n",
      "Epoch: 36 - Train cost= 1293.72143555\n",
      "Epoch: 36 - Test cost= 1411.06372070\n",
      "Epoch: 37 - Train cost= 1292.23522949\n",
      "Epoch: 37 - Test cost= 1397.87658691\n",
      "Epoch: 38 - Train cost= 1288.01269531\n",
      "Epoch: 38 - Test cost= 1401.52185059\n",
      "Epoch: 39 - Train cost= 1284.91162109\n",
      "Epoch: 39 - Test cost= 1407.31347656\n",
      "Epoch: 40 - Train cost= 1282.26672363\n",
      "Epoch: 40 - Test cost= 1414.02661133\n",
      "Epoch: 41 - Train cost= 1280.85034180\n",
      "Epoch: 41 - Test cost= 1395.38391113\n",
      "Epoch: 42 - Train cost= 1277.72143555\n",
      "Epoch: 42 - Test cost= 1410.88659668\n",
      "Epoch: 43 - Train cost= 1275.44104004\n",
      "Epoch: 43 - Test cost= 1432.46325684\n",
      "Epoch: 44 - Train cost= 1201.33203125\n",
      "Epoch: 44 - Test cost= 1332.33117676\n",
      "Epoch: 45 - Train cost= 1184.48022461\n",
      "Epoch: 45 - Test cost= 1325.35180664\n",
      "Epoch: 46 - Train cost= 1179.26269531\n",
      "Epoch: 46 - Test cost= 1320.96643066\n",
      "Epoch: 47 - Train cost= 1176.16442871\n",
      "Epoch: 47 - Test cost= 1317.98168945\n",
      "Epoch: 48 - Train cost= 1173.91101074\n",
      "Epoch: 48 - Test cost= 1317.10827637\n",
      "Epoch: 49 - Train cost= 1172.27819824\n",
      "Epoch: 49 - Test cost= 1314.39038086\n",
      "Epoch: 50 - Train cost= 1170.32922363\n",
      "Epoch: 50 - Test cost= 1313.38696289\n",
      "Epoch: 51 - Train cost= 1169.56396484\n",
      "Epoch: 51 - Test cost= 1311.10986328\n",
      "Epoch: 52 - Train cost= 1168.39074707\n",
      "Epoch: 52 - Test cost= 1311.70458984\n",
      "Epoch: 53 - Train cost= 1167.16625977\n",
      "Epoch: 53 - Test cost= 1310.44567871\n",
      "Epoch: 54 - Train cost= 1166.03320312\n",
      "Epoch: 54 - Test cost= 1309.80847168\n",
      "Epoch: 55 - Train cost= 1165.18579102\n",
      "Epoch: 55 - Test cost= 1308.10400391\n",
      "Epoch: 56 - Train cost= 1164.24121094\n",
      "Epoch: 56 - Test cost= 1310.96240234\n",
      "Epoch: 57 - Train cost= 1163.64245605\n",
      "Epoch: 57 - Test cost= 1308.00524902\n",
      "Epoch: 58 - Train cost= 1162.53564453\n",
      "Epoch: 58 - Test cost= 1308.57592773\n",
      "Epoch: 59 - Train cost= 1161.65173340\n",
      "Epoch: 59 - Test cost= 1306.65307617\n",
      "Epoch: 60 - Train cost= 1161.25305176\n",
      "Epoch: 60 - Test cost= 1307.30383301\n",
      "Epoch: 61 - Train cost= 1160.24523926\n",
      "Epoch: 61 - Test cost= 1305.44653320\n",
      "Epoch: 62 - Train cost= 1159.66918945\n",
      "Epoch: 62 - Test cost= 1304.93920898\n",
      "Epoch: 63 - Train cost= 1159.11035156\n",
      "Epoch: 63 - Test cost= 1306.99450684\n",
      "Epoch: 64 - Train cost= 1158.66040039\n",
      "Epoch: 64 - Test cost= 1304.35754395\n",
      "Epoch: 65 - Train cost= 1158.23937988\n",
      "Epoch: 65 - Test cost= 1305.34655762\n",
      "Epoch: 66 - Train cost= 1157.40332031\n",
      "Epoch: 66 - Test cost= 1303.79833984\n",
      "Epoch: 67 - Train cost= 1156.49377441\n",
      "Epoch: 67 - Test cost= 1304.78527832\n",
      "Epoch: 68 - Train cost= 1156.17553711\n",
      "Epoch: 68 - Test cost= 1304.86486816\n",
      "Epoch: 69 - Train cost= 1155.62097168\n",
      "Epoch: 69 - Test cost= 1302.95080566\n",
      "Epoch: 70 - Train cost= 1154.96020508\n",
      "Epoch: 70 - Test cost= 1305.30920410\n",
      "Epoch: 71 - Train cost= 1154.72607422\n",
      "Epoch: 71 - Test cost= 1303.46057129\n",
      "Epoch: 72 - Train cost= 1154.03466797\n",
      "Epoch: 72 - Test cost= 1303.92443848\n",
      "Epoch: 73 - Train cost= 1153.55920410\n",
      "Epoch: 73 - Test cost= 1302.20788574\n",
      "Epoch: 74 - Train cost= 1152.87573242\n",
      "Epoch: 74 - Test cost= 1305.32690430\n",
      "Epoch: 75 - Train cost= 1152.66687012\n",
      "Epoch: 75 - Test cost= 1304.60620117\n",
      "Epoch: 76 - Train cost= 1148.99890137\n",
      "Epoch: 76 - Test cost= 1300.94787598\n",
      "Epoch: 77 - Train cost= 1148.62744141\n",
      "Epoch: 77 - Test cost= 1300.62548828\n",
      "Epoch: 78 - Train cost= 1147.97229004\n",
      "Epoch: 78 - Test cost= 1301.13500977\n",
      "Epoch: 79 - Train cost= 1147.47546387\n",
      "Epoch: 79 - Test cost= 1300.31909180\n",
      "Epoch: 80 - Train cost= 1147.21301270\n",
      "Epoch: 80 - Test cost= 1299.59240723\n",
      "Epoch: 81 - Train cost= 1147.20703125\n",
      "Epoch: 81 - Test cost= 1299.04382324\n",
      "Epoch: 82 - Train cost= 1146.90295410\n",
      "Epoch: 82 - Test cost= 1300.27014160\n",
      "Epoch: 83 - Train cost= 1146.45349121\n",
      "Epoch: 83 - Test cost= 1299.60668945\n",
      "Epoch: 84 - Train cost= 1146.55053711\n",
      "Epoch: 84 - Test cost= 1299.69262695\n",
      "Epoch: 85 - Train cost= 1146.43408203\n",
      "Epoch: 85 - Test cost= 1299.07885742\n",
      "Epoch: 86 - Train cost= 1146.33630371\n",
      "Epoch: 86 - Test cost= 1299.68627930\n",
      "Epoch: 87 - Train cost= 1146.01794434\n",
      "Epoch: 87 - Test cost= 1299.17199707\n",
      "Epoch: 88 - Train cost= 1146.00927734\n",
      "Epoch: 88 - Test cost= 1299.48376465\n",
      "Epoch: 89 - Train cost= 1146.07678223\n",
      "Epoch: 89 - Test cost= 1299.12316895\n",
      "Epoch: 90 - Train cost= 1146.17773438\n",
      "Epoch: 90 - Test cost= 1298.25244141\n",
      "Epoch: 91 - Train cost= 1146.08972168\n",
      "Epoch: 91 - Test cost= 1298.91906738\n",
      "Epoch: 92 - Train cost= 1146.12475586\n",
      "Epoch: 92 - Test cost= 1298.30151367\n",
      "Epoch: 93 - Train cost= 1145.62829590\n",
      "Epoch: 93 - Test cost= 1298.32836914\n",
      "Epoch: 94 - Train cost= 1145.66833496\n",
      "Epoch: 94 - Test cost= 1298.37353516\n",
      "Epoch: 95 - Train cost= 1145.46972656\n",
      "Epoch: 95 - Test cost= 1298.60644531\n",
      "Epoch: 96 - Train cost= 1145.71533203\n",
      "Epoch: 96 - Test cost= 1298.85424805\n",
      "Epoch: 97 - Train cost= 1145.42248535\n",
      "Epoch: 97 - Test cost= 1298.83325195\n",
      "Epoch: 98 - Train cost= 1145.25732422\n",
      "Epoch: 98 - Test cost= 1299.03259277\n",
      "Epoch: 99 - Train cost= 1145.31555176\n",
      "Epoch: 99 - Test cost= 1299.33593750\n",
      "Epoch: 100 - Train cost= 1144.92248535\n",
      "Epoch: 100 - Test cost= 1297.52722168\n",
      "Epoch: 101 - Train cost= 1145.02441406\n",
      "Epoch: 101 - Test cost= 1298.17199707\n",
      "Epoch: 102 - Train cost= 1145.07055664\n",
      "Epoch: 102 - Test cost= 1298.55371094\n",
      "Epoch: 103 - Train cost= 1144.79223633\n",
      "Epoch: 103 - Test cost= 1297.79626465\n",
      "Epoch: 104 - Train cost= 1144.82348633\n",
      "Epoch: 104 - Test cost= 1297.46545410\n",
      "Epoch: 105 - Train cost= 1145.02441406\n",
      "Epoch: 105 - Test cost= 1297.65368652\n",
      "Epoch: 106 - Train cost= 1144.62829590\n",
      "Epoch: 106 - Test cost= 1297.94165039\n",
      "Epoch: 107 - Train cost= 1144.80773926\n",
      "Epoch: 107 - Test cost= 1298.00122070\n",
      "Epoch: 108 - Train cost= 1144.78955078\n",
      "Epoch: 108 - Test cost= 1297.90209961\n"
     ]
    }
   ],
   "source": [
    "model.fit(x_train, x_test, epoch=150, batch_size=128,x=10,steph_epoch=10)"
   ]
  },
  {
   "cell_type": "markdown",
   "metadata": {},
   "source": [
    "## Train History"
   ]
  },
  {
   "cell_type": "code",
   "execution_count": null,
   "metadata": {},
   "outputs": [],
   "source": [
    "plot_history(model.train_vector,model.test_vector)"
   ]
  },
  {
   "cell_type": "markdown",
   "metadata": {},
   "source": [
    "## Input images"
   ]
  },
  {
   "cell_type": "code",
   "execution_count": null,
   "metadata": {},
   "outputs": [],
   "source": [
    "plot_images(model.batch_img, 'Inputs')"
   ]
  },
  {
   "cell_type": "markdown",
   "metadata": {},
   "source": [
    "## Output images"
   ]
  },
  {
   "cell_type": "code",
   "execution_count": null,
   "metadata": {},
   "outputs": [],
   "source": [
    "plot_images(model.recon_img, 'Outputs')"
   ]
  },
  {
   "cell_type": "markdown",
   "metadata": {},
   "source": [
    "## Reconstracted images"
   ]
  },
  {
   "cell_type": "code",
   "execution_count": null,
   "metadata": {},
   "outputs": [],
   "source": [
    "plot_images(model.new_output, 'Reconstruction')"
   ]
  },
  {
   "cell_type": "code",
   "execution_count": null,
   "metadata": {},
   "outputs": [],
   "source": []
  }
 ],
 "metadata": {
  "accelerator": "GPU",
  "colab": {
   "collapsed_sections": [],
   "name": "Train_DCVAE_MPS45_tensorflow.ipynb",
   "provenance": [],
   "version": "0.3.2"
  },
  "kernelspec": {
   "display_name": "Python 3",
   "language": "python",
   "name": "python3"
  },
  "language_info": {
   "codemirror_mode": {
    "name": "ipython",
    "version": 3
   },
   "file_extension": ".py",
   "mimetype": "text/x-python",
   "name": "python",
   "nbconvert_exporter": "python",
   "pygments_lexer": "ipython3",
   "version": "3.5.6"
  }
 },
 "nbformat": 4,
 "nbformat_minor": 1
}
