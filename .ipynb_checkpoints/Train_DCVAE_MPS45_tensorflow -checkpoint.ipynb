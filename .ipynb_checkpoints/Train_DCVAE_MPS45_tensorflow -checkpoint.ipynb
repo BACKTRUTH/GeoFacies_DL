{
 "cells": [
  {
   "cell_type": "code",
   "execution_count": 1,
   "metadata": {},
   "outputs": [
    {
     "name": "stderr",
     "output_type": "stream",
     "text": [
      "Using TensorFlow backend.\n"
     ]
    }
   ],
   "source": [
    "import tensorflow as tf\n",
    "from Model.DCVAE_TF import DCVAE\n",
    "from Model.Utils import LoadMPS45, LoadMPS100,plot_images, plot_history"
   ]
  },
  {
   "cell_type": "markdown",
   "metadata": {},
   "source": [
    "## Load DataSet"
   ]
  },
  {
   "cell_type": "code",
   "execution_count": 2,
   "metadata": {},
   "outputs": [],
   "source": [
    "x_train1, x_test1 = LoadMPS45(dirBase='DataSet/MPS-45.mat');\n",
    "x_train = tf.keras.utils.to_categorical(x_train1,2)\n",
    "x_test = tf.keras.utils.to_categorical(x_test1,2)\n",
    "x_train=x_train.astype('float32')\n",
    "x_test=x_test.astype('float32')"
   ]
  },
  {
   "cell_type": "markdown",
   "metadata": {},
   "source": [
    "## Build Model"
   ]
  },
  {
   "cell_type": "code",
   "execution_count": 3,
   "metadata": {},
   "outputs": [],
   "source": [
    "model = DCVAE(input_shape=(45,45,2), latent_cont_dim=500, opt=tf.train.RMSPropOptimizer(learning_rate=0.001),hidden_dim=1024, \n",
    "              filters=(32,32,16), strides=(2,2,1), dropout=0.1,lr=0.001)"
   ]
  },
  {
   "cell_type": "markdown",
   "metadata": {},
   "source": [
    "## Train Network"
   ]
  },
  {
   "cell_type": "code",
   "execution_count": 4,
   "metadata": {
    "scrolled": true
   },
   "outputs": [
    {
     "name": "stdout",
     "output_type": "stream",
     "text": [
      "Epoca: 1 - Train cost= 931.77502441\n",
      "Epoch: 1 - Test cost= 490.94210815\n",
      "Epoca: 2 - Train cost= 450.11514282\n",
      "Epoch: 2 - Test cost= 416.81362915\n",
      "Epoca: 3 - Train cost= 405.73797607\n",
      "Epoch: 3 - Test cost= 395.13125610\n",
      "Epoca: 4 - Train cost= 380.66329956\n",
      "Epoch: 4 - Test cost= 362.81658936\n",
      "Epoca: 5 - Train cost= 358.19808960\n",
      "Epoch: 5 - Test cost= 346.88644409\n",
      "Epoca: 6 - Train cost= 339.26126099\n",
      "Epoch: 6 - Test cost= 332.66744995\n",
      "Epoca: 7 - Train cost= 324.40536499\n",
      "Epoch: 7 - Test cost= 325.36096191\n",
      "Epoca: 8 - Train cost= 312.38156128\n",
      "Epoch: 8 - Test cost= 307.79141235\n",
      "Epoca: 9 - Train cost= 302.36920166\n",
      "Epoch: 9 - Test cost= 300.66299438\n",
      "Epoca: 10 - Train cost= 294.43414307\n",
      "Epoch: 10 - Test cost= 288.36306763\n",
      "Epoca: 11 - Train cost= 288.38546753\n",
      "Epoch: 11 - Test cost= 284.08859253\n",
      "Epoca: 12 - Train cost= 282.60214233\n",
      "Epoch: 12 - Test cost= 284.18041992\n",
      "Epoca: 13 - Train cost= 277.70065308\n",
      "Epoch: 13 - Test cost= 279.68417358\n",
      "Epoca: 14 - Train cost= 274.19116211\n",
      "Epoch: 14 - Test cost= 277.95657349\n",
      "Epoca: 15 - Train cost= 270.59570312\n",
      "Epoch: 15 - Test cost= 272.64035034\n",
      "Epoca: 16 - Train cost= 267.69961548\n",
      "Epoch: 16 - Test cost= 268.10226440\n",
      "Epoca: 17 - Train cost= 265.23864746\n",
      "Epoch: 17 - Test cost= 265.48519897\n",
      "Epoca: 18 - Train cost= 262.72839355\n",
      "Epoch: 18 - Test cost= 266.66583252\n",
      "Epoca: 19 - Train cost= 260.86126709\n",
      "Epoch: 19 - Test cost= 262.37191772\n",
      "Epoca: 20 - Train cost= 259.07675171\n",
      "Epoch: 20 - Test cost= 262.77914429\n",
      "Epoca: 21 - Train cost= 257.66177368\n",
      "Epoch: 21 - Test cost= 259.11880493\n",
      "Epoca: 22 - Train cost= 256.39010620\n",
      "Epoch: 22 - Test cost= 261.53854370\n",
      "Epoca: 23 - Train cost= 255.09739685\n",
      "Epoch: 23 - Test cost= 255.00952148\n",
      "Epoca: 24 - Train cost= 253.50448608\n",
      "Epoch: 24 - Test cost= 258.42892456\n",
      "Epoca: 25 - Train cost= 252.93762207\n",
      "Epoch: 25 - Test cost= 260.81259155\n",
      "Epoca: 26 - Train cost= 251.46444702\n",
      "Epoch: 26 - Test cost= 260.68182373\n",
      "Epoca: 27 - Train cost= 250.56134033\n",
      "Epoch: 27 - Test cost= 254.31594849\n",
      "Epoca: 28 - Train cost= 249.68701172\n",
      "Epoch: 28 - Test cost= 252.77726746\n",
      "Epoca: 29 - Train cost= 248.98661804\n",
      "Epoch: 29 - Test cost= 254.75227356\n",
      "Epoca: 30 - Train cost= 248.03149414\n",
      "Epoch: 30 - Test cost= 247.94738770\n",
      "Epoca: 31 - Train cost= 247.51518250\n",
      "Epoch: 31 - Test cost= 252.41226196\n",
      "Epoca: 32 - Train cost= 246.66879272\n",
      "Epoch: 32 - Test cost= 252.30491638\n",
      "Epoca: 33 - Train cost= 246.37287903\n",
      "Epoch: 33 - Test cost= 248.28733826\n",
      "Epoca: 34 - Train cost= 245.36201477\n",
      "Epoch: 34 - Test cost= 249.60473633\n",
      "Epoca: 35 - Train cost= 244.97447205\n",
      "Epoch: 35 - Test cost= 254.83250427\n",
      "Epoca: 36 - Train cost= 244.52299500\n",
      "Epoch: 36 - Test cost= 252.43339539\n",
      "Epoca: 37 - Train cost= 244.16802979\n",
      "Epoch: 37 - Test cost= 245.26785278\n",
      "Epoca: 38 - Train cost= 243.69381714\n",
      "Epoch: 38 - Test cost= 245.48245239\n",
      "Epoca: 39 - Train cost= 243.15733337\n",
      "Epoch: 39 - Test cost= 248.10557556\n",
      "Epoca: 40 - Train cost= 232.03541565\n",
      "Epoch: 40 - Test cost= 237.27879333\n",
      "Epoca: 41 - Train cost= 229.92095947\n",
      "Epoch: 41 - Test cost= 236.44856262\n",
      "Epoca: 42 - Train cost= 229.03610229\n",
      "Epoch: 42 - Test cost= 235.56292725\n",
      "Epoca: 43 - Train cost= 228.53793335\n",
      "Epoch: 43 - Test cost= 235.15733337\n",
      "Epoca: 44 - Train cost= 228.08300781\n",
      "Epoch: 44 - Test cost= 234.90148926\n",
      "Epoca: 45 - Train cost= 227.74282837\n",
      "Epoch: 45 - Test cost= 234.49819946\n",
      "Epoca: 46 - Train cost= 227.69584656\n",
      "Epoch: 46 - Test cost= 234.65019226\n",
      "Epoca: 47 - Train cost= 227.45260620\n",
      "Epoch: 47 - Test cost= 234.33323669\n",
      "Epoca: 48 - Train cost= 227.24057007\n",
      "Epoch: 48 - Test cost= 233.93266296\n",
      "Epoca: 49 - Train cost= 227.10292053\n",
      "Epoch: 49 - Test cost= 233.89004517\n",
      "Epoca: 50 - Train cost= 226.86294556\n",
      "Epoch: 50 - Test cost= 233.85424805\n",
      "Epoca: 51 - Train cost= 226.72587585\n",
      "Epoch: 51 - Test cost= 233.63163757\n",
      "Epoca: 52 - Train cost= 226.56658936\n",
      "Epoch: 52 - Test cost= 233.62406921\n",
      "Epoca: 53 - Train cost= 226.73657227\n",
      "Epoch: 53 - Test cost= 233.14508057\n",
      "Epoca: 54 - Train cost= 226.44352722\n",
      "Epoch: 54 - Test cost= 233.17344666\n",
      "Epoca: 55 - Train cost= 226.47413635\n",
      "Epoch: 55 - Test cost= 232.91729736\n",
      "Epoca: 56 - Train cost= 226.24620056\n",
      "Epoch: 56 - Test cost= 233.21641541\n",
      "Epoca: 57 - Train cost= 226.00340271\n",
      "Epoch: 57 - Test cost= 232.97254944\n",
      "Epoca: 58 - Train cost= 226.08561707\n",
      "Epoch: 58 - Test cost= 232.79635620\n",
      "Epoca: 59 - Train cost= 225.91777039\n",
      "Epoch: 59 - Test cost= 232.69073486\n",
      "Epoca: 60 - Train cost= 225.85176086\n",
      "Epoch: 60 - Test cost= 232.57777405\n",
      "Epoca: 61 - Train cost= 225.72468567\n",
      "Epoch: 61 - Test cost= 232.85739136\n",
      "Epoca: 62 - Train cost= 225.57850647\n",
      "Epoch: 62 - Test cost= 232.51084900\n",
      "Epoca: 63 - Train cost= 225.49758911\n",
      "Epoch: 63 - Test cost= 232.50651550\n",
      "Epoca: 64 - Train cost= 225.53033447\n",
      "Epoch: 64 - Test cost= 232.33215332\n",
      "Epoca: 65 - Train cost= 225.35797119\n",
      "Epoch: 65 - Test cost= 232.09167480\n",
      "Epoca: 66 - Train cost= 225.14515686\n",
      "Epoch: 66 - Test cost= 232.12272644\n",
      "Epoca: 67 - Train cost= 225.19827271\n",
      "Epoch: 67 - Test cost= 232.65003967\n",
      "Epoca: 68 - Train cost= 225.23272705\n",
      "Epoch: 68 - Test cost= 232.14843750\n",
      "Epoca: 69 - Train cost= 225.11537170\n",
      "Epoch: 69 - Test cost= 231.70120239\n",
      "Epoca: 70 - Train cost= 224.96382141\n",
      "Epoch: 70 - Test cost= 231.87504578\n",
      "Epoca: 71 - Train cost= 224.88217163\n",
      "Epoch: 71 - Test cost= 232.07131958\n",
      "Epoca: 72 - Train cost= 224.88330078\n",
      "Epoch: 72 - Test cost= 231.89437866\n",
      "Epoca: 73 - Train cost= 224.76493835\n",
      "Epoch: 73 - Test cost= 232.05702209\n",
      "Epoca: 74 - Train cost= 224.65876770\n",
      "Epoch: 74 - Test cost= 231.47180176\n",
      "Epoca: 75 - Train cost= 224.65309143\n",
      "Epoch: 75 - Test cost= 232.00148010\n",
      "Epoca: 76 - Train cost= 224.49105835\n",
      "Epoch: 76 - Test cost= 231.33100891\n",
      "Epoca: 77 - Train cost= 224.50680542\n",
      "Epoch: 77 - Test cost= 231.66581726\n",
      "Epoca: 78 - Train cost= 224.45211792\n",
      "Epoch: 78 - Test cost= 231.33906555\n",
      "Epoca: 79 - Train cost= 224.40364075\n",
      "Epoch: 79 - Test cost= 231.38145447\n",
      "Epoca: 80 - Train cost= 224.33985901\n",
      "Epoch: 80 - Test cost= 231.45910645\n",
      "Epoca: 81 - Train cost= 224.22496033\n",
      "Epoch: 81 - Test cost= 231.70742798\n",
      "Epoca: 82 - Train cost= 224.11033630\n",
      "Epoch: 82 - Test cost= 231.16265869\n",
      "Epoca: 83 - Train cost= 224.14810181\n",
      "Epoch: 83 - Test cost= 231.13156128\n",
      "Epoca: 84 - Train cost= 224.05912781\n",
      "Epoch: 84 - Test cost= 231.38792419\n",
      "Epoca: 85 - Train cost= 224.12290955\n",
      "Epoch: 85 - Test cost= 231.04460144\n",
      "Epoca: 86 - Train cost= 224.03489685\n",
      "Epoch: 86 - Test cost= 231.39581299\n",
      "Epoca: 87 - Train cost= 223.94230652\n",
      "Epoch: 87 - Test cost= 231.19265747\n",
      "Epoca: 88 - Train cost= 223.77178955\n",
      "Epoch: 88 - Test cost= 230.72238159\n",
      "Epoca: 89 - Train cost= 223.86230469\n",
      "Epoch: 89 - Test cost= 230.92199707\n",
      "Epoca: 90 - Train cost= 223.75096130\n",
      "Epoch: 90 - Test cost= 231.09069824\n",
      "Epoca: 91 - Train cost= 223.65618896\n",
      "Epoch: 91 - Test cost= 230.94007874\n",
      "Epoca: 92 - Train cost= 223.63339233\n",
      "Epoch: 92 - Test cost= 231.22679138\n",
      "Epoca: 93 - Train cost= 223.08946228\n",
      "Epoch: 93 - Test cost= 230.71363831\n",
      "Epoca: 94 - Train cost= 223.12095642\n",
      "Epoch: 94 - Test cost= 230.67085266\n",
      "Epoca: 95 - Train cost= 222.99255371\n",
      "Epoch: 95 - Test cost= 230.29164124\n",
      "Epoca: 96 - Train cost= 222.88288879\n",
      "Epoch: 96 - Test cost= 230.34092712\n",
      "Epoca: 97 - Train cost= 222.82321167\n",
      "Epoch: 97 - Test cost= 230.56538391\n",
      "Epoca: 98 - Train cost= 222.96617126\n",
      "Epoch: 98 - Test cost= 230.37622070\n",
      "Epoca: 99 - Train cost= 222.82460022\n",
      "Epoch: 99 - Test cost= 230.15206909\n",
      "Epoca: 100 - Train cost= 222.68986511\n",
      "Epoch: 100 - Test cost= 230.78079224\n",
      "Epoca: 101 - Train cost= 222.82855225\n",
      "Epoch: 101 - Test cost= 230.27433777\n",
      "Epoca: 102 - Train cost= 222.63221741\n",
      "Epoch: 102 - Test cost= 230.03575134\n",
      "Epoca: 103 - Train cost= 222.92872620\n",
      "Epoch: 103 - Test cost= 230.05624390\n",
      "Epoca: 104 - Train cost= 222.76472473\n",
      "Epoch: 104 - Test cost= 230.26792908\n",
      "Epoca: 105 - Train cost= 222.73730469\n",
      "Epoch: 105 - Test cost= 230.33421326\n",
      "Epoca: 106 - Train cost= 222.59936523\n",
      "Epoch: 106 - Test cost= 230.31007385\n",
      "Epoca: 107 - Train cost= 222.74156189\n",
      "Epoch: 107 - Test cost= 229.98355103\n",
      "Epoca: 108 - Train cost= 222.61526489\n",
      "Epoch: 108 - Test cost= 230.07952881\n",
      "Epoca: 109 - Train cost= 222.58790588\n",
      "Epoch: 109 - Test cost= 229.83898926\n",
      "Epoca: 110 - Train cost= 222.70561218\n",
      "Epoch: 110 - Test cost= 229.96023560\n",
      "Epoca: 111 - Train cost= 222.66847229\n",
      "Epoch: 111 - Test cost= 230.35499573\n",
      "Epoca: 112 - Train cost= 222.54066467\n",
      "Epoch: 112 - Test cost= 229.91441345\n",
      "Epoca: 113 - Train cost= 222.63661194\n"
     ]
    },
    {
     "name": "stdout",
     "output_type": "stream",
     "text": [
      "Epoch: 113 - Test cost= 230.14680481\n",
      "Epoca: 114 - Train cost= 222.65502930\n",
      "Epoch: 114 - Test cost= 230.24514771\n",
      "Epoca: 115 - Train cost= 222.53337097\n",
      "Epoch: 115 - Test cost= 230.21215820\n",
      "Epoca: 116 - Train cost= 222.60670471\n",
      "Epoch: 116 - Test cost= 230.22129822\n",
      "Epoca: 117 - Train cost= 222.71076965\n",
      "Epoch: 117 - Test cost= 230.12796021\n",
      "Epoca: 118 - Train cost= 222.46267700\n",
      "Epoch: 118 - Test cost= 229.89575195\n",
      "Epoca: 119 - Train cost= 222.64839172\n",
      "Epoch: 119 - Test cost= 229.98442078\n",
      "Epoca: 120 - Train cost= 222.58576965\n",
      "Epoch: 120 - Test cost= 230.20651245\n",
      "Epoca: 121 - Train cost= 222.61001587\n",
      "Epoch: 121 - Test cost= 230.18920898\n"
     ]
    }
   ],
   "source": [
    "model.fit(x_train, x_test, epoch=150, batch_size=128,x=10, steph_epoch=10)"
   ]
  },
  {
   "cell_type": "markdown",
   "metadata": {},
   "source": [
    "## Train History"
   ]
  },
  {
   "cell_type": "code",
   "execution_count": 6,
   "metadata": {},
   "outputs": [
    {
     "data": {
      "image/png": "[encoded data removed]",
      "text/plain": [
       "<Figure size 432x288 with 1 Axes>"
      ]
     },
     "metadata": {
      "needs_background": "light"
     },
     "output_type": "display_data"
    }
   ],
   "source": [
    "plot_history(model.train_vector,model.test_vector)"
   ]
  },
  {
   "cell_type": "markdown",
   "metadata": {},
   "source": [
    "## Input images"
   ]
  },
  {
   "cell_type": "code",
   "execution_count": 7,
   "metadata": {},
   "outputs": [
    {
     "data": {
      "image/png": "[encoded data removed]",
      "text/plain": [
       "<Figure size 1440x7200 with 10 Axes>"
      ]
     },
     "metadata": {
      "needs_background": "light"
     },
     "output_type": "display_data"
    }
   ],
   "source": [
    "plot_images(model.batch_img, 'Inputs')"
   ]
  },
  {
   "cell_type": "markdown",
   "metadata": {},
   "source": [
    "## Output images"
   ]
  },
  {
   "cell_type": "code",
   "execution_count": 8,
   "metadata": {},
   "outputs": [
    {
     "data": {
      "image/png": "[encoded data removed]",
      "text/plain": [
       "<Figure size 1440x7200 with 10 Axes>"
      ]
     },
     "metadata": {
      "needs_background": "light"
     },
     "output_type": "display_data"
    }
   ],
   "source": [
    "plot_images(model.recon_img, 'Outputs')"
   ]
  },
  {
   "cell_type": "markdown",
   "metadata": {},
   "source": [
    "## Reconstructed images"
   ]
  },
  {
   "cell_type": "code",
   "execution_count": 9,
   "metadata": {},
   "outputs": [
    {
     "data": {
      "image/png": "[encoded data removed]",
      "text/plain": [
       "<Figure size 1440x7200 with 10 Axes>"
      ]
     },
     "metadata": {
      "needs_background": "light"
     },
     "output_type": "display_data"
    }
   ],
   "source": [
    "plot_images(model.new_output, 'Reconstruction')"
   ]
  },
  {
   "cell_type": "markdown",
   "metadata": {},
   "source": [
    "### Reconstruction images"
   ]
  },
  {
   "cell_type": "code",
   "execution_count": 10,
   "metadata": {},
   "outputs": [
    {
     "data": {
      "image/png": "[encoded data removed]",
      "text/plain": [
       "<Figure size 1440x7200 with 10 Axes>"
      ]
     },
     "metadata": {
      "needs_background": "light"
     },
     "output_type": "display_data"
    }
   ],
   "source": [
    "model.generator_data()"
   ]
  }
 ],
 "metadata": {
  "accelerator": "GPU",
  "colab": {
   "collapsed_sections": [],
   "name": "Train_DCVAE_MPS45_tensorflow.ipynb",
   "provenance": [],
   "version": "0.3.2"
  },
  "kernelspec": {
   "display_name": "Python 3",
   "language": "python",
   "name": "python3"
  },
  "language_info": {
   "codemirror_mode": {
    "name": "ipython",
    "version": 3
   },
   "file_extension": ".py",
   "mimetype": "text/x-python",
   "name": "python",
   "nbconvert_exporter": "python",
   "pygments_lexer": "ipython3",
   "version": "3.5.6"
  }
 },
 "nbformat": 4,
 "nbformat_minor": 1
}
