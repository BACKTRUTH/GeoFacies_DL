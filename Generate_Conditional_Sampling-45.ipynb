{
 "cells": [
  {
   "cell_type": "code",
   "execution_count": 1,
   "metadata": {},
   "outputs": [],
   "source": [
    "from HistoryMatching.ReadFiles import ReadObsFile\n",
    "from HistoryMatching.Utils import CVAE_function,GetFaciesData,Plot_Result,Contitional_ES_MDA\n",
    "from HistoryMatching.Utils import Load_Ensemble,GerenateObsFile,CreateStateFacies,UpdateStateFacies\n",
    "import numpy as np"
   ]
  },
  {
   "cell_type": "markdown",
   "metadata": {},
   "source": [
    "# Load Ensemble Data"
   ]
  },
  {
   "cell_type": "code",
   "execution_count": 2,
   "metadata": {},
   "outputs": [],
   "source": [
    "Facies=Load_Ensemble(pathFile='DataSet/MPS-45.mat',variable='Dato')"
   ]
  },
  {
   "cell_type": "markdown",
   "metadata": {},
   "source": [
    "# Generate Measurement"
   ]
  },
  {
   "cell_type": "code",
   "execution_count": 3,
   "metadata": {},
   "outputs": [
    {
     "name": "stdout",
     "output_type": "stream",
     "text": [
      "[1, 0, 1, 1, 1, 0, 1]\n"
     ]
    }
   ],
   "source": [
    "GenerateMeasurement=True\n",
    "import scipy.io as sio\n",
    "True45 = sio.loadmat('DataSet/True45.mat')\n",
    "True45 = True45['True']\n",
    "if GenerateMeasurement:\n",
    "    \"\"\n",
    "    \"\"\n",
    "    xp = [2,37,7,33]      # produtor well\n",
    "    yp = [22,4,42,41]     # produtor well\n",
    "    xi = [7,24,42]        # injetor well\n",
    "    yi = [4,14,26]        # injetor well\n",
    "    position=np.array([yp+yi] + [xp+xi]).T\n",
    "    obs=GerenateObsFile(position,True45)\n",
    "    print(obs)"
   ]
  },
  {
   "cell_type": "markdown",
   "metadata": {},
   "source": [
    "# Test #1\n",
    "<ul>\n",
    "    <li> File utilizado: 'Obs.dat' </li>\n",
    "        <ul>\n",
    "            <li> xp = [2,37,7,33] - Poço produtor </li>\n",
    "            <li> yp = [22,4,42,41] - Poço produtor </li>\n",
    "            <li> xi = [7,24,42] - Poço injetor </li>\n",
    "            <li> yi = [4,14,26] - Poço injetor </li>\n",
    "        </ul>\n",
    "    </li>\n",
    "    <li> position = np.array([yp+yi] + [xp+xi]).T </li>\n",
    "</ul>\n",
    "    "
   ]
  },
  {
   "cell_type": "markdown",
   "metadata": {},
   "source": [
    "## Read Observation File"
   ]
  },
  {
   "cell_type": "code",
   "execution_count": 4,
   "metadata": {},
   "outputs": [],
   "source": [
    "obs,R,t_acu,act,produccion = ReadObsFile('Obs.dat')"
   ]
  },
  {
   "cell_type": "markdown",
   "metadata": {},
   "source": [
    "## Generate parameterized Facies data"
   ]
  },
  {
   "cell_type": "code",
   "execution_count": 5,
   "metadata": {},
   "outputs": [
    {
     "name": "stderr",
     "output_type": "stream",
     "text": [
      "Using TensorFlow backend.\n"
     ]
    }
   ],
   "source": [
    "m_x = CreateStateFacies(Facies,45,45,redeVAE='Model/TrainModel/CVAE45'); # facies em DL"
   ]
  },
  {
   "cell_type": "markdown",
   "metadata": {},
   "source": [
    "## Reconstucted Initial Facies data"
   ]
  },
  {
   "cell_type": "code",
   "execution_count": 6,
   "metadata": {},
   "outputs": [],
   "source": [
    "m_f = UpdateStateFacies(m_x,45,45,redeVAE='Model/TrainModel/CVAE45')"
   ]
  },
  {
   "cell_type": "markdown",
   "metadata": {},
   "source": [
    "## Execute ES-MDA for generate Contidional Sampling"
   ]
  },
  {
   "cell_type": "code",
   "execution_count": 7,
   "metadata": {
    "scrolled": false
   },
   "outputs": [
    {
     "name": "stdout",
     "output_type": "stream",
     "text": [
      "Erro ite_ 0  :  818.0\n",
      "Erro ite_ 1  :  381.0\n",
      "Erro ite_ 2  :  144.0\n",
      "Erro ite_ 3  :  53.0\n",
      "Erro ite_ 4  :  25.0\n",
      "Erro ite_ 5  :  24.0\n",
      "Erro End:  21.0\n"
     ]
    }
   ],
   "source": [
    "m_f_a=Contitional_ES_MDA(6,[],position,obs,R,m_x,m_f,[45,45],redeVAE='Model/TrainModel/CVAE45')"
   ]
  },
  {
   "cell_type": "markdown",
   "metadata": {},
   "source": [
    "## Plot True Model and Result"
   ]
  },
  {
   "cell_type": "code",
   "execution_count": 8,
   "metadata": {
    "scrolled": false
   },
   "outputs": [
    {
     "data": {
      "image/png": "[encoded data removed]",
      "text/plain": [
       "<Figure size 432x288 with 1 Axes>"
      ]
     },
     "metadata": {
      "needs_background": "light"
     },
     "output_type": "display_data"
    }
   ],
   "source": [
    "import matplotlib.pyplot as plt\n",
    "#%matplotlib notebook\n",
    "plt.imshow(True45.reshape((45,45)),cmap='jet')\n",
    "plt.plot(xp,yp,'^',color='yellow')\n",
    "plt.plot(xi,yi,'o',color='green')\n",
    "plt.axis('off')\n",
    "plt.show()"
   ]
  },
  {
   "cell_type": "code",
   "execution_count": 9,
   "metadata": {},
   "outputs": [
    {
     "data": {
      "image/png": "[encoded data removed]",
      "text/plain": [
       "<Figure size 1080x576 with 20 Axes>"
      ]
     },
     "metadata": {
      "needs_background": "light"
     },
     "output_type": "display_data"
    }
   ],
   "source": [
    "Plot_Result(Facies,m_f_a,xp,yp,xi,yi,initial_data=0) "
   ]
  },
  {
   "cell_type": "markdown",
   "metadata": {},
   "source": [
    "# Teste 2\n",
    "\n",
    "<ul>\n",
    "    <li> Arquivo utilizado: 'Obs2.dat' </li>\n",
    "    <li> Pontos utilizados:\n",
    "        <ul>\n",
    "            <li> xe = [2,8,18,33,41,44,2,10,26,38,44] </li>\n",
    "            <li> ye = [40,34,27,23,19,7,15,10,1,40,36] </li>\n",
    "            <li> xi = [] </li>\n",
    "            <li> yi = [] </li>\n",
    "        </ul>\n",
    "    </li>\n",
    "    <li> position = np.array([ye] + [xe]).T </li>\n",
    "</ul>"
   ]
  },
  {
   "cell_type": "code",
   "execution_count": 10,
   "metadata": {},
   "outputs": [
    {
     "name": "stdout",
     "output_type": "stream",
     "text": [
      "[0, 0, 0, 0, 0, 1, 0, 0, 0, 0, 1, 0, 1, 1, 1, 1, 1, 0, 1, 0]\n"
     ]
    }
   ],
   "source": [
    "GenerateMeasurement=True\n",
    "import scipy.io as sio\n",
    "True45 = sio.loadmat('DataSet/True45.mat')\n",
    "True45 = True45['True']\n",
    "if GenerateMeasurement:\n",
    "    \"\"\n",
    "    \"\"\n",
    "    xe=[2,12,22,32,42,2,12,22,32,42,2,12,22,32,42,2,12,22,32,42]\n",
    "    ye=[3, 3 ,3,3,3,16,16,16,16,16,28,28,28,28,28,42,42,42,42,42]\n",
    "    #xe = [2, 8, 18,33,41,44,2 ,10,26,38,44]\n",
    "    #ye = [40,34,30,28,25,7 ,15,10,1 ,40,36]\n",
    "    position=np.array([ye] + [xe]).T\n",
    "    obs=GerenateObsFile(position,True45,filePath='Obs2.dat')\n",
    "    print(obs)"
   ]
  },
  {
   "cell_type": "markdown",
   "metadata": {},
   "source": [
    "## Read Observation File"
   ]
  },
  {
   "cell_type": "code",
   "execution_count": 11,
   "metadata": {},
   "outputs": [],
   "source": [
    "obs,R,t_acu,act,produccion = ReadObsFile('Obs2.dat')"
   ]
  },
  {
   "cell_type": "markdown",
   "metadata": {},
   "source": [
    "## Generate parameterized Facies data"
   ]
  },
  {
   "cell_type": "code",
   "execution_count": 12,
   "metadata": {},
   "outputs": [],
   "source": [
    "m_x = CreateStateFacies(Facies,45,45,redeVAE='Model/TrainModel/CVAE45'); # facies em DL"
   ]
  },
  {
   "cell_type": "markdown",
   "metadata": {},
   "source": [
    "## Reconstucted Initial Facies data\n"
   ]
  },
  {
   "cell_type": "code",
   "execution_count": 13,
   "metadata": {},
   "outputs": [],
   "source": [
    "m_f = UpdateStateFacies(m_x,45,45,redeVAE='Model/TrainModel/CVAE45')"
   ]
  },
  {
   "cell_type": "markdown",
   "metadata": {},
   "source": [
    "## Execute ES-MDA for generate Contidional Sampling"
   ]
  },
  {
   "cell_type": "code",
   "execution_count": 14,
   "metadata": {
    "scrolled": true
   },
   "outputs": [
    {
     "name": "stdout",
     "output_type": "stream",
     "text": [
      "Erro ite_ 0  :  1898.0\n",
      "Erro ite_ 1  :  1050.0\n",
      "Erro ite_ 2  :  622.0\n",
      "Erro ite_ 3  :  371.0\n",
      "Erro ite_ 4  :  225.0\n",
      "Erro ite_ 5  :  157.0\n",
      "Erro ite_ 6  :  98.0\n",
      "Erro ite_ 7  :  79.0\n",
      "Erro ite_ 8  :  50.0\n",
      "Erro ite_ 9  :  40.0\n",
      "Erro End:  36.0\n"
     ]
    }
   ],
   "source": [
    "m_f_a=Contitional_ES_MDA(10,[],position,obs,R,m_x,m_f,[45,45],redeVAE='Model/TrainModel/CVAE45')"
   ]
  },
  {
   "cell_type": "markdown",
   "metadata": {},
   "source": [
    "## Plot True Model and Result"
   ]
  },
  {
   "cell_type": "code",
   "execution_count": 15,
   "metadata": {},
   "outputs": [
    {
     "data": {
      "image/png": "[encoded data removed]",
      "text/plain": [
       "<Figure size 1080x576 with 1 Axes>"
      ]
     },
     "metadata": {
      "needs_background": "light"
     },
     "output_type": "display_data"
    }
   ],
   "source": [
    "import matplotlib.pyplot as plt\n",
    "#%matplotlib notebook\n",
    "plt.imshow(True45.reshape((45,45)),cmap='jet')\n",
    "plt.plot(xe,ye,'o',color='green')\n",
    "plt.axis('off')\n",
    "plt.show()"
   ]
  },
  {
   "cell_type": "code",
   "execution_count": 16,
   "metadata": {},
   "outputs": [
    {
     "data": {
      "image/png": "[encoded data removed]",
      "text/plain": [
       "<Figure size 1080x576 with 20 Axes>"
      ]
     },
     "metadata": {
      "needs_background": "light"
     },
     "output_type": "display_data"
    }
   ],
   "source": [
    "Plot_Result(Facies,m_f_a,xe,ye,[],[],initial_data=0) "
   ]
  }
 ],
 "metadata": {
  "kernelspec": {
   "display_name": "Python 3",
   "language": "python",
   "name": "python3"
  },
  "language_info": {
   "codemirror_mode": {
    "name": "ipython",
    "version": 3
   },
   "file_extension": ".py",
   "mimetype": "text/x-python",
   "name": "python",
   "nbconvert_exporter": "python",
   "pygments_lexer": "ipython3",
   "version": "3.5.6"
  }
 },
 "nbformat": 4,
 "nbformat_minor": 2
}
